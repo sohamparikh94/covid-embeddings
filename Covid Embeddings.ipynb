{
 "cells": [
  {
   "cell_type": "code",
   "execution_count": 1,
   "metadata": {
    "collapsed": true
   },
   "outputs": [],
   "source": [
    "import os\n",
    "import csv\n",
    "import json\n",
    "from IPython import embed\n",
    "import scipy\n",
    "import pickle as pkl\n",
    "import numpy as np\n",
    "import gensim\n",
    "from progiter import ProgIter\n",
    "from tqdm import tqdm_notebook as tqdm\n",
    "from collections import Counter\n",
    "from gensim.models import Word2Vec, KeyedVectors"
   ]
  },
  {
   "cell_type": "code",
   "execution_count": null,
   "metadata": {
    "collapsed": true
   },
   "outputs": [],
   "source": [
    "phrases = [['fever'], ['dry', 'cough'], ['cough'], ['sore', 'throat'], ['malaise'],\n",
    "          ['headache'], ['muscle', 'pain'], ['nasal', 'congestion'], ['shortness', 'of', 'breath'],\n",
    "          ['dyspnea'], ['respiratory', 'distress'], ['tachypnea'], ['hypoxia'], ['bilateral', 'opacities'],\n",
    "          ['lung', 'infiltrates'], ['acute', 'respiratory', 'distress', 'syndrome'], ['ARDS'], ['pneumonia']]"
   ]
  },
  {
   "cell_type": "code",
   "execution_count": null,
   "metadata": {
    "collapsed": true
   },
   "outputs": [],
   "source": [
    "pbm_pmc_model = KeyedVectors.load_word2vec_format('embeddings/w2v/PubMed-and-PMC-w2v.bin', binary=True)\n",
    "wiki_pbm_pmc_model = KeyedVectors.load_word2vec_format('embeddings/w2v/wikipedia-pubmed-and-PMC-w2v.bin', binary=True)\n",
    "bioasq_model = KeyedVectors.load_word2vec_format('embeddings/word2vecTools/w2v.txt')\n",
    "biow2v_model = KeyedVectors.load_word2vec_format('embeddings/biow2v/BioWordVec_PubMed_MIMICIII_d200.vec.bin', \n",
    "                                                binary=True)\n",
    "w2v300_model = Word2Vec.load('embeddings/clinical_embeddings/W2V_300/w2v_OA_CR_300d.bin')\n",
    "extrinsic_model = KeyedVectors.load_word2vec_format('embeddings/biow2v/bio_embedding_extrinsic', binary=True)\n",
    "intrinsic_model = KeyedVectors.load_word2vec_format('embeddings/biow2v/bio_embedding_intrinsic', binary=True)\n",
    "standard_glove = KeyedVectors.load_word2vec_format('/sandata/sohamp/glove/glove.840B.300d.txt')"
   ]
  },
  {
   "cell_type": "code",
   "execution_count": null,
   "metadata": {
    "collapsed": true
   },
   "outputs": [],
   "source": [
    "models = [pbm_pmc_model, wiki_pbm_pmc_model, bioasq_model, w2v300_model, \n",
    "          extrinsic_model, intrinsic_model, standard_glove]"
   ]
  },
  {
   "cell_type": "code",
   "execution_count": null,
   "metadata": {
    "collapsed": true
   },
   "outputs": [],
   "source": [
    "all_returned_phrases = dict()\n",
    "for phrase in phrases:\n",
    "    returned_phrases = list()\n",
    "    for model in models:\n",
    "        results = list()\n",
    "        try:\n",
    "            results = model.most_similar(positive=phrase, topn=20)\n",
    "        except:\n",
    "            results = model.most_similar(positive=[x.lower() for x in phrase], topn=20)\n",
    "        returned_phrases.append(results)\n",
    "    all_returned_phrases[' '.join(phrase)] = returned_phrases"
   ]
  }
 ],
 "metadata": {
  "kernelspec": {
   "display_name": "soham_new",
   "language": "python",
   "name": "soham_new"
  },
  "language_info": {
   "codemirror_mode": {
    "name": "ipython",
    "version": 3
   },
   "file_extension": ".py",
   "mimetype": "text/x-python",
   "name": "python",
   "nbconvert_exporter": "python",
   "pygments_lexer": "ipython3",
   "version": "3.6.9"
  }
 },
 "nbformat": 4,
 "nbformat_minor": 0
}
