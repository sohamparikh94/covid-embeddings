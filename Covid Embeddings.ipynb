{
 "cells": [
  {
   "cell_type": "code",
   "execution_count": 1,
   "metadata": {
    "collapsed": true
   },
   "outputs": [],
   "source": [
    "import os\n",
    "import csv\n",
    "import json\n",
    "from IPython import embed\n",
    "import scipy\n",
    "import pickle as pkl\n",
    "import numpy as np\n",
    "import gensim\n",
    "from progiter import ProgIter\n",
    "from tqdm import tqdm_notebook as tqdm\n",
    "from collections import Counter\n",
    "from gensim.models import Word2Vec, KeyedVectors"
   ]
  },
  {
   "cell_type": "code",
   "execution_count": null,
   "metadata": {
    "collapsed": true
   },
   "outputs": [],
   "source": [
    "phrases = [['fever'], ['dry', 'cough'], ['cough'], ['sore', 'throat'], ['malaise'],\n",
    "          ['headache'], ['muscle', 'pain'], ['nasal', 'congestion'], ['shortness', 'of', 'breath'],\n",
    "          ['dyspnea'], ['respiratory', 'distress'], ['tachypnea'], ['hypoxia'], ['bilateral', 'opacities'],\n",
    "          ['lung', 'infiltrates'], ['acute', 'respiratory', 'distress', 'syndrome'], ['ARDS'], ['pneumonia']]"
   ]
  },
  {
   "cell_type": "markdown",
   "metadata": {},
   "source": [
    "### Sources for the embeddings"
   ]
  },
  {
   "cell_type": "markdown",
   "metadata": {},
   "source": [
    "The embeddings are publicly available and need to be downloaded separately. Due to their large size, it is a bit hard to upload them to the drive.\n",
    "\n",
    "#### PubMed+PMC model: \n",
    "http://evexdb.org/pmresources/vec-space-models/PubMed-and-PMC-w2v.bin\n",
    "\n",
    "#### WikiPedia+PubMed+PMC model: \n",
    "http://evexdb.org/pmresources/vec-space-models/wikipedia-pubmed-and-PMC-w2v.bin\n",
    "\n",
    "#### BioASQ model: \n",
    "http://bioasq.org/news/bioasq-releases-continuous-space-word-vectors-obtained-applying-word2vec-pubmed-abstracts\n",
    "\n",
    "#### BioWordVec models: \n",
    "https://figshare.com/articles/Improving_Biomedical_Word_Embeddings_with_Subword_Information_and_MeSH_Ontology/6882647\n",
    "\n",
    "#### Clinical Embeddings\n",
    "https://upenn.box.com/s/s52hsf65c51e3ro0ssx79e6l25qykt0m\n",
    "\n",
    "#### GloVe embeddings: \n",
    "http://nlp.stanford.edu/data/glove.840B.300d.zip\n"
   ]
  },
  {
   "cell_type": "code",
   "execution_count": 3,
   "metadata": {
    "collapsed": false
   },
   "outputs": [],
   "source": [
    "'''\n",
    "The BioASQ embeddings are provided as two separate files for the words and vectors. Here, we \n",
    "consolidate them in one file to convert to a gensim-compatible format.\n",
    "'''\n",
    "\n",
    "\n",
    "with open('embeddings/word2vecTools/types.txt') as f:\n",
    "    num_lines = 0\n",
    "    for _ in f:\n",
    "        num_lines += 1\n",
    "    \n",
    "with open('embeddings/word2vecTools/types.txt') as f, open('embeddings/word2vecTools/vectors.txt') as f1, open('embeddings/word2vecTools/w2v_test.txt', 'w') as fw:\n",
    "    fw.write(str(num_lines))\n",
    "    fw.write(' ')\n",
    "    fw.write('200')\n",
    "    for line in f:\n",
    "        word = line.strip()\n",
    "        vectors = f1.readline()\n",
    "        vectors = [float(x) for x in vectors.strip().split()]\n",
    "        fw.write('\\n')\n",
    "        fw.write(word)\n",
    "        for x in vectors:\n",
    "            fw.write(' ')\n",
    "            fw.write(str(x))"
   ]
  },
  {
   "cell_type": "code",
   "execution_count": null,
   "metadata": {
    "collapsed": true
   },
   "outputs": [],
   "source": [
    "'''\n",
    "This block loads all the models and it will take some time to load all of them (~45 min - 1 hour)\n",
    "You can set the path of the embeddings depending on where you have downloaded them.\n",
    "'''\n",
    "\n",
    "\n",
    "pbm_pmc_model = KeyedVectors.load_word2vec_format('embeddings/w2v/PubMed-and-PMC-w2v.bin', binary=True)\n",
    "wiki_pbm_pmc_model = KeyedVectors.load_word2vec_format('embeddings/w2v/wikipedia-pubmed-and-PMC-w2v.bin', binary=True)\n",
    "bioasq_model = KeyedVectors.load_word2vec_format('embeddings/word2vecTools/w2v.txt')\n",
    "biow2v_model = KeyedVectors.load_word2vec_format('embeddings/biow2v/BioWordVec_PubMed_MIMICIII_d200.vec.bin', \n",
    "                                                binary=True)\n",
    "w2v300_model = Word2Vec.load('embeddings/clinical_embeddings/W2V_300/w2v_OA_CR_300d.bin')\n",
    "extrinsic_model = KeyedVectors.load_word2vec_format('embeddings/biow2v/bio_embedding_extrinsic', binary=True)\n",
    "intrinsic_model = KeyedVectors.load_word2vec_format('embeddings/biow2v/bio_embedding_intrinsic', binary=True)\n",
    "standard_glove = KeyedVectors.load_word2vec_format('embeddings/glove/glove.840B.300d.txt')"
   ]
  },
  {
   "cell_type": "code",
   "execution_count": null,
   "metadata": {
    "collapsed": true
   },
   "outputs": [],
   "source": [
    "models = [pbm_pmc_model, wiki_pbm_pmc_model, bioasq_model, w2v300_model, \n",
    "          extrinsic_model, intrinsic_model, standard_glove]"
   ]
  },
  {
   "cell_type": "code",
   "execution_count": null,
   "metadata": {
    "collapsed": true
   },
   "outputs": [],
   "source": [
    "'''\n",
    "This piece of code retrieves the top 20 most similar words/phrases from the vocabulary of each model\n",
    "for the COVID symptoms\n",
    "'''\n",
    "\n",
    "all_returned_phrases = dict()\n",
    "for phrase in phrases:\n",
    "    returned_phrases = list()\n",
    "    for model in models:\n",
    "        results = list()\n",
    "        try:\n",
    "            results = model.most_similar(positive=phrase, topn=20)\n",
    "        except:\n",
    "            results = model.most_similar(positive=[x.lower() for x in phrase], topn=20)\n",
    "        returned_phrases.append(results)\n",
    "    all_returned_phrases[' '.join(phrase)] = returned_phrases"
   ]
  },
  {
   "cell_type": "code",
   "execution_count": null,
   "metadata": {
    "collapsed": true
   },
   "outputs": [],
   "source": [
    "'''\n",
    "This piece of code first retrieves the top 20 most similar words/phrases from the vocabulary of each model\n",
    "for the COVID symptoms. \n",
    "Then, it computes the cosine similarity between the input and each word/phrase returned across all models.\n",
    "'''\n",
    "\n",
    "\n",
    "\n",
    "all_similarities = dict()\n",
    "for phrase in ProgIter(phrases):\n",
    "    all_similarities[' '.join(phrase)] = list()\n",
    "    all_results = Counter()\n",
    "    for model in models:\n",
    "        try:\n",
    "            results = model.most_similar(positive=phrase, topn=20)\n",
    "        except:\n",
    "            results = model.most_similar(positive=[x.lower() for x in phrase], topn=20)\n",
    "        for x in results:\n",
    "            all_results[x[0]] += 1\n",
    "    for model in models:\n",
    "        curr_results = Counter()\n",
    "        for result in all_results:\n",
    "            try:\n",
    "                curr_results[result] = model.n_similarity(phrase, [result])\n",
    "            except:\n",
    "                curr_results[result] = -1\n",
    "        all_similarities[' '.join(phrase)].append(curr_results)"
   ]
  }
 ],
 "metadata": {
  "kernelspec": {
   "display_name": "soham_new",
   "language": "python",
   "name": "soham_new"
  },
  "language_info": {
   "codemirror_mode": {
    "name": "ipython",
    "version": 3
   },
   "file_extension": ".py",
   "mimetype": "text/x-python",
   "name": "python",
   "nbconvert_exporter": "python",
   "pygments_lexer": "ipython3",
   "version": "3.6.9"
  }
 },
 "nbformat": 4,
 "nbformat_minor": 0
}
